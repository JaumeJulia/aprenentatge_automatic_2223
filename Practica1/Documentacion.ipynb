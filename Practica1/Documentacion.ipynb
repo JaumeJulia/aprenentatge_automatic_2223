{
 "cells": [
  {
   "cell_type": "markdown",
   "source": [
    "# Tonto el que lo lea"
   ],
   "metadata": {
    "collapsed": false
   },
   "outputs": [
    {
     "ename": "SyntaxError",
     "evalue": "invalid syntax (2435707178.py, line 1)",
     "output_type": "error",
     "traceback": [
      "\u001B[1;36m  Input \u001B[1;32mIn [1]\u001B[1;36m\u001B[0m\n\u001B[1;33m    Tonto el que lo lea\u001B[0m\n\u001B[1;37m          ^\u001B[0m\n\u001B[1;31mSyntaxError\u001B[0m\u001B[1;31m:\u001B[0m invalid syntax\n"
     ]
    }
   ],
   "execution_count": 1
  },
  {
   "cell_type": "code",
   "execution_count": null,
   "outputs": [],
   "source": [
    "El conjunto de datos está constituido por palabras del inglés y del catalán. Es el mismo conjunto de palabras para los dos idiomas, cada palabra en un idioma tiene su traducción en el otro."
   ],
   "metadata": {
    "collapsed": false
   }
  },
  {
   "cell_type": "code",
   "execution_count": 3,
   "outputs": [],
   "source": [
    "import pandas\n",
    "from matplotlib.colors import ListedColormap\n",
    "import matplotlib.pyplot as plt\n",
    "\n",
    "import numpy as np\n",
    "from sklearn.svm import SVC"
   ],
   "metadata": {
    "collapsed": false
   }
  },
  {
   "cell_type": "markdown",
   "source": [
    "Primero cargamos el conjunto de datos en el programa usando la libreria pandas. Debido a que ya sabemos que hay una columna de indices que no aporta información relevante, la eliminamos seguidamente."
   ],
   "metadata": {
    "collapsed": false
   }
  },
  {
   "cell_type": "code",
   "execution_count": 12,
   "outputs": [
    {
     "name": "stdout",
     "output_type": "stream",
     "text": [
      "         catala     angles\n",
      "0           com         as\n",
      "1          seva        his\n",
      "2           que       that\n",
      "3           ell         he\n",
      "4           era        was\n",
      "..          ...        ...\n",
      "983         nas       nose\n",
      "984      plural     plural\n",
      "985      còlera      anger\n",
      "986  reclamació      claim\n",
      "987   continent  continent\n",
      "\n",
      "[988 rows x 2 columns]\n"
     ]
    }
   ],
   "source": [
    "df = pandas.read_csv(\"data/data.csv\", delim_whitespace = True)\n",
    "df = df.drop(['0'], axis = 1)\n",
    "print(df)"
   ],
   "metadata": {
    "collapsed": false
   }
  },
  {
   "cell_type": "markdown",
   "source": [
    "El conjunto de datos está constituido por dos columnas, una de palabras en inglés i otra de su traducción en catalan. Si queremos entrenar un svm para que sea capaz de distinguir si una palabra es inglesa o catalana necesitamos formatear los datos para que en una columna tengamos todos los datos crudos, es decir las palabras, y su resolución, es decir su procedencia."
   ],
   "metadata": {
    "collapsed": false
   }
  },
  {
   "cell_type": "code",
   "execution_count": null,
   "outputs": [],
   "source": [
    "#Funcion que crea las columnas de datos y de resoluciones\n",
    "def reformat(dataFrame):\n",
    "    dataFrame['y']=dataFrame.columns[0]\n",
    "    dataFrame.rename(columns={dataFrame.columns[0]: 'word'}, inplace=True)\n",
    "    return dataFrame;\n",
    "\n",
    "#Separamos las palabras por idioma\n",
    "catala, angles= df.filter(['catala'], axis=1), df.filter(['angles'], axis=1)\n",
    "#Reformateamos\n",
    "catala=reformat(catala)\n",
    "angles=reformat(angles)\n",
    "#Concatenamos los dos conjuntos de datos\n",
    "wordsDF=pd.concat([catala,angles], axis=0)\n",
    "#Mezclamos las filas para que las palabras de cada idioma no se encuentren todas juntas.\n",
    "wordsDF = wordsDF.sample(frac=1).reset_index(drop=True)\n",
    "wordsDF.to_csv('data/definitiveData.csv', index=False)\n",
    "print(wordsDF.to_string)"
   ],
   "metadata": {
    "collapsed": false
   }
  },
  {
   "cell_type": "markdown",
   "source": [
    "El siguiente paso es determinar los parámetros sobre los cuales el svm se va a basar para hacer la distinción. Entonces, hay que analizar el idioma y encontrar sus características que lo diferencien.\n",
    "\n",
    "longitud de palabra\n",
    "ratio consonante/vocal\n",
    "formacion th\n",
    "formacion vocales iguales(oo, ee)"
   ],
   "metadata": {
    "collapsed": false
   }
  },
  {
   "cell_type": "code",
   "execution_count": null,
   "outputs": [],
   "source": [
    "#longitud de palabras\n",
    "def contarLletres(lista):\n",
    "    cantidadLetras = []\n",
    "    for word in lista:\n",
    "        cantidadLetras.append(len(word))\n",
    "    return cantidadLetras\n"
   ],
   "metadata": {
    "collapsed": false
   }
  }
 ],
 "metadata": {
  "kernelspec": {
   "display_name": "Python 3",
   "language": "python",
   "name": "python3"
  },
  "language_info": {
   "codemirror_mode": {
    "name": "ipython",
    "version": 2
   },
   "file_extension": ".py",
   "mimetype": "text/x-python",
   "name": "python",
   "nbconvert_exporter": "python",
   "pygments_lexer": "ipython2",
   "version": "2.7.6"
  }
 },
 "nbformat": 4,
 "nbformat_minor": 0
}
