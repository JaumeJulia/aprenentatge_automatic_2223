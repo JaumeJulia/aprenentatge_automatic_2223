{
 "cells": [
  {
   "cell_type": "markdown",
   "metadata": {
    "collapsed": false
   },
   "source": [
    "# Práctica 1 - Clasificación de palabras "
   ]
  },
  {
   "cell_type": "markdown",
   "metadata": {},
   "source": [
    "La práctica consiste en entrenar un modelo basado en SVM para clasificar las palabras de un conjunto de datos. La clasificación es entre palabras catalanas o inglesas."
   ]
  },
  {
   "cell_type": "code",
   "execution_count": 3,
   "metadata": {
    "collapsed": false
   },
   "outputs": [],
   "source": [
    "import pandas as pd\n",
    "from matplotlib.colors import ListedColormap\n",
    "import matplotlib.pyplot as plt\n",
    "\n",
    "import numpy as np\n",
    "from sklearn.svm import SVC"
   ]
  },
  {
   "cell_type": "markdown",
   "metadata": {
    "collapsed": false
   },
   "source": [
    "## Preparación de los datos\n",
    "Primero cargamos el conjunto de datos en el programa usando la libreria pandas. Hemos eliminado previamente la columna de índices, ya que no nos aportaba ningún valor y solo manchaba el dataframe."
   ]
  },
  {
   "cell_type": "code",
   "execution_count": 4,
   "metadata": {
    "collapsed": false
   },
   "outputs": [
    {
     "name": "stdout",
     "output_type": "stream",
     "text": [
      "         catala     angles\n",
      "0           com         as\n",
      "1          seva        his\n",
      "2           que       that\n",
      "3           ell         he\n",
      "4           era        was\n",
      "..          ...        ...\n",
      "983         nas       nose\n",
      "984      plural     plural\n",
      "985      còlera      anger\n",
      "986  reclamació      claim\n",
      "987   continent  continent\n",
      "\n",
      "[988 rows x 2 columns]\n"
     ]
    }
   ],
   "source": [
    "df = pd.read_csv(\"data/data.csv\")\n",
    "print(df)"
   ]
  },
  {
   "cell_type": "markdown",
   "metadata": {
    "collapsed": false
   },
   "source": [
    "El conjunto de datos está constituido por dos columnas, una de palabras en inglés y otra de su traducción en catalan. Para entrenar el modelo vamos a adecuar el formato de las muestras a uno que siga el siguiente formato: C1 | C2 | C3 | .. | CN | Y (dónde C es una característica y Y es la target). El target en este caso será la lengua a la que pertenece la palabra. "
   ]
  },
  {
   "cell_type": "code",
   "execution_count": 5,
   "metadata": {
    "collapsed": false
   },
   "outputs": [
    {
     "name": "stdout",
     "output_type": "stream",
     "text": [
      "<bound method DataFrame.to_string of            word       y\n",
      "0          neta  catala\n",
      "1      incloure  catala\n",
      "2     condition  angles\n",
      "3         ràpid  catala\n",
      "4          head  angles\n",
      "...         ...     ...\n",
      "1971      right  angles\n",
      "1972      plana  catala\n",
      "1973    desgast  catala\n",
      "1974      would  angles\n",
      "1975      venir  catala\n",
      "\n",
      "[1976 rows x 2 columns]>\n"
     ]
    }
   ],
   "source": [
    "#Funcion que crea las columnas de datos y de resoluciones\n",
    "def reformat(dataFrame):\n",
    "    dataFrame['y']=dataFrame.columns[0]\n",
    "    dataFrame.rename(columns={dataFrame.columns[0]: 'word'}, inplace=True)\n",
    "    return dataFrame;\n",
    "\n",
    "#Separamos las palabras por idioma\n",
    "catala, angles= df.filter(['catala'], axis=1), df.filter(['angles'], axis=1)\n",
    "#Reformateamos\n",
    "catala=reformat(catala)\n",
    "angles=reformat(angles)\n",
    "#Concatenamos los dos conjuntos de datos\n",
    "wordsDF=pd.concat([catala,angles], axis=0)\n",
    "#Mezclamos las filas para que las palabras de cada idioma no se encuentren todas juntas.\n",
    "wordsDF = wordsDF.sample(frac=1).reset_index(drop=True)\n",
    "wordsDF.to_csv('data/definitiveData.csv', index=False)\n",
    "print(wordsDF.to_string)"
   ]
  },
  {
   "cell_type": "markdown",
   "metadata": {
    "collapsed": false
   },
   "source": [
    "## Características\n",
    "El siguiente paso es determinar los parámetros sobre los cuales el svm se va a basar para hacer la distinción. Para ello hemos pensado que las siguientes características podrían servirnos para clasificar las palabras:\n",
    "\n",
    "- Longitud de la palabra (Numérico)\n",
    "- Ratio de consonantes por vocal (consonantes / vocales) (Númerico)\n",
    "- Patrones o reglas de ortografía propias de un idioma (Categórico)\n",
    "    + Acentos, propios del catalán en este dataset\n",
    "    + Misma vocal concatenada (aa, ee, ii, oo, uu), propia del inglés para representar sonidos\n",
    "    + Formaciones de consonantes (consonant clusters) para al igual que en el caso de arriba representar sonidos (th, sch)\n",
    "\n",
    "Referencias\n",
    "- <Consonant_Clusters: https://www.aprendeinglessila.com/2013/09/consonantes-ingles-clusters/>\n",
    "\n",
    "Para añadir estas características al dataframe, hemos definido las siguientes funciones: "
   ]
  },
  {
   "cell_type": "code",
   "execution_count": 6,
   "metadata": {
    "collapsed": false
   },
   "outputs": [],
   "source": [
    "#longitud de palabras\n",
    "def contarLletres(lista):\n",
    "    cantidadLetras = []\n",
    "    for word in lista:\n",
    "        cantidadLetras.append(len(word))\n",
    "    return cantidadLetras\n"
   ]
  }
 ],
 "metadata": {
  "kernelspec": {
   "display_name": "Python 3.10.6 ('env-ml')",
   "language": "python",
   "name": "python3"
  },
  "language_info": {
   "codemirror_mode": {
    "name": "ipython",
    "version": 3
   },
   "file_extension": ".py",
   "mimetype": "text/x-python",
   "name": "python",
   "nbconvert_exporter": "python",
   "pygments_lexer": "ipython3",
   "version": "3.10.6"
  },
  "vscode": {
   "interpreter": {
    "hash": "d372871e3639891ade210866eae78dd84bc0020d2e9bb7e839aeb62d7773342c"
   }
  }
 },
 "nbformat": 4,
 "nbformat_minor": 0
}
