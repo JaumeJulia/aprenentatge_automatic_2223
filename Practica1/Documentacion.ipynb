{
 "cells": [
  {
   "cell_type": "markdown",
   "metadata": {
    "collapsed": false
   },
   "source": [
    "# Práctica 1 - Clasificación de palabras"
   ]
  },
  {
   "attachments": {},
   "cell_type": "markdown",
   "metadata": {},
   "source": [
    "## Introducción\n",
    "El problema que se nos plantea en esta práctica es la clasificación, mediante un modelo basado en SVM, de las palabras de un dataset según la lengua a la que pertenecen. En primera instáncia solamente tenemos palabras del catalán y el inglés, pero se pueden añadir más palabras de otros idiomas usando librerías como [Googletrans](https://www.thepythoncode.com/article/translate-text-in-python#:~:text=Googletrans%20is%20a%20free%20and,detect%20languages%20and%20translate%20text.). "
   ]
  },
  {
   "cell_type": "code",
   "execution_count": 24,
   "metadata": {
    "collapsed": false
   },
   "outputs": [],
   "source": [
    "# Misc\n",
    "import pandas as pd\n",
    "import numpy as np\n",
    "import matplotlib.pyplot as plt\n",
    "from numpy import mean\n",
    "from matplotlib.colors import ListedColormap\n",
    "import sklearn.preprocessing\n",
    "from sklearn.model_selection import train_test_split\n",
    "\n",
    "# CrossValidation\n",
    "## K-folding\n",
    "from sklearn.model_selection import StratifiedKFold\n",
    "from sklearn.model_selection import cross_val_score\n",
    "\n",
    "## GridSearch\n",
    "from sklearn.model_selection import GridSearchCV\n",
    "\n",
    "# Metrics\n",
    "from sklearn.metrics import accuracy_score\n",
    "from sklearn.metrics import precision_score\n",
    "from sklearn.metrics import recall_score\n",
    "from sklearn.metrics import confusion_matrix,ConfusionMatrixDisplay\n",
    "\n",
    "#https://scikit-learn.org/stable/modules/model_evaluation.html\n",
    "\n",
    "# Model\n",
    "from sklearn.svm import SVC"
   ]
  },
  {
   "attachments": {},
   "cell_type": "markdown",
   "metadata": {},
   "source": [
    "## Preparación de los datos\n",
    "En esta primera parte de la práctica vamos a preparar los datos para poder hacer la clasificación. Para ello haremos que cada muestra siga el siguiente formato: $C_1$ | $C_2$ | $C_3$ | .. | $C_n$ | $y$  (siendo $C$ una característica y $y$ el target).\n",
    "\n",
    "Se va a codificar $y$ con los valores \"0\" para representar la clase _anglés_ y \"1\" para la clase _català_. Si añadieramos más idiomas, simplemente seguiríamos con este formato, siendo por ejemplo _francés_ \"2\", _alemán_ \"3\", etc. Esto se conoce como [Label Encoding](https://towardsdatascience.com/categorical-encoding-using-label-encoding-and-one-hot-encoder-911ef77fb5bd). Este tipo de codificación de variables categóricas nos viene como anillo al dedo, ya que no puede dar lugar a la confusión de que los números representan una jerarquía, debido a que estamos tratando con lenguas modernas (la jerarquía podría indicar lo cerca que está esa lengua de su lengua madre, el latín por ejemplo). \n",
    "\n",
    "La otra opción sería llevar a cabo Hot Encoding, lo que supondría crear más variables $y$ con los valores 1 y 0 para indicar si pertenece una palabra a un idioma. Esta aproximación nos podría acabar incrementando muchísimo la dimensionalidad del problema."
   ]
  },
  {
   "cell_type": "code",
   "execution_count": 25,
   "metadata": {
    "collapsed": false
   },
   "outputs": [],
   "source": [
    "#Auxiliar function that reformats df to one that is more fitting to Classification Problems\n",
    "def reformat(dataFrame):\n",
    "    dataFrame['y']=dataFrame.columns[0]\n",
    "    \n",
    "    dataFrame.rename(columns={dataFrame.columns[0]: 'word'}, inplace=True)\n",
    "    return dataFrame\n",
    "\n",
    "#RawData, it has been a bit formatted before reading the csv, to facilitate the process.\n",
    "raw=pd.read_csv(\"data/data.csv\")\n",
    "#Split df\n",
    "catala, angles= raw.filter(['catala'], axis=1), raw.filter(['angles'], axis=1)\n",
    "#Reformating\n",
    "catala=reformat(catala)\n",
    "angles=reformat(angles)\n",
    "\n",
    "#Merging\n",
    "wordsDF=pd.concat([catala,angles], axis=0)\n",
    "\n",
    "#Encoding variables\n",
    "wordsDF['y']=wordsDF['y'].astype('category')\n",
    "wordsDF['y']=wordsDF['y'].cat.codes\n",
    "#Shuffle the rows\n",
    "wordsDF = wordsDF.sample(frac=1).reset_index(drop=True)\n",
    "\n"
   ]
  },
  {
   "attachments": {},
   "cell_type": "markdown",
   "metadata": {},
   "source": [
    "## Soluciones consideradas\n",
    "\n",
    "### Caracterísiticas\n",
    "Las características que hemos pensado que pueden ser útiles para la clasificación de las palabras son:\n",
    "- Cantidad de caracteres (Númerica)\n",
    "- Proporción de consonantes por vocal (consonantes / vocales) (Numérica)\n",
    "- Contiene patrones o normas ortográficas de una lengua de las que vamos a clasificar?\n",
    "    + Doble uso de vocal consecutivamente como es el caso del inglés (Categórica)\n",
    "    + Acentos en caso de catalán (Categórica)\n",
    "    + Contiene combinaciones de consonantes (consonant clusters) propias del inglés? (Categórica)\n",
    "\n",
    "Referencias\n",
    "- <[Consonant_Clusters](https://www.aprendeinglessila.com/2013/09/consonantes-ingles-clusters)>\n",
    "- <[Frecuencia_De_Letras_Usadas_En_Catalan](https://es.sttmedia.com/frecuencias-de-letras-catalan)>\n",
    "- <[Frecuencia_De_Letras_Usadas_En_Catalan](https://www3.nd.edu/~busiforc/handouts/cryptography/letterfrequencies.html)>\n",
    "\n",
    "Para añadir las columnas que representen estas características, hemos aplicado las siguientes funciones a las palabras."
   ]
  },
  {
   "cell_type": "code",
   "execution_count": 26,
   "metadata": {},
   "outputs": [
    {
     "name": "stdout",
     "output_type": "stream",
     "text": [
      "          word   ratio  cantidadLetras  gotAccent  gotCedilla  doubleVocal  \\\n",
      "0        milla  0.4000               5          0           0            0   \n",
      "1         step  0.2500               4          0           0            0   \n",
      "2     començar  0.3750               8          0           1            0   \n",
      "3     problema  0.3750               8          0           0            0   \n",
      "4       engine  0.5000               6          0           0            0   \n",
      "...        ...     ...             ...        ...         ...          ...   \n",
      "1971      blau  0.5000               4          0           0            0   \n",
      "1972     fight  0.2000               5          0           0            0   \n",
      "1973    govern  0.3333               6          0           0            0   \n",
      "1974       dia  0.6667               3          0           0            0   \n",
      "1975     since  0.4000               5          0           0            0   \n",
      "\n",
      "      enCC  y  \n",
      "0        0  1  \n",
      "1        0  0  \n",
      "2        0  1  \n",
      "3        0  1  \n",
      "4        0  0  \n",
      "...    ... ..  \n",
      "1971     0  1  \n",
      "1972     0  0  \n",
      "1973     0  0  \n",
      "1974     0  1  \n",
      "1975     0  0  \n",
      "\n",
      "[1976 rows x 8 columns]\n"
     ]
    }
   ],
   "source": [
    "#ratio de consonantes y vocales\n",
    "def ratio (word):\n",
    "    vocals=0\n",
    "    for c in word:\n",
    "        if isVocal(c):\n",
    "            vocals+=1\n",
    "    return round(vocals/len(word), 4)\n",
    "\n",
    "#isVocal?\n",
    "def isVocal(c):\n",
    "    if(c=='a' or c=='e' or c=='i' or c=='o' or c=='u'):\n",
    "        return True\n",
    "    return \n",
    "#gotAccent?\n",
    "def gotAccent(word):\n",
    "    #List containing all possible accentuated chars from Catalan\n",
    "    ocurrences=[ord('à'),ord('è'),ord('é'),ord('í'),ord('ò'),ord('ó'),ord('ú')]\n",
    "    for c in word:\n",
    "        if ord(c) in ocurrences:\n",
    "            return 1\n",
    "    return 0\n",
    "#DoubleVocal?\n",
    "def doubleVocal(word):\n",
    "    ocurrences=[\"aa\",\"ee\",\"ii\",\"oo\",\"uu\"]\n",
    "    for oc in ocurrences:\n",
    "        if word.find(oc)!=-1:\n",
    "            return 1\n",
    "    return 0\n",
    "#Does it have an english consonant cluster?\n",
    "def enCC(word):\n",
    "    ocurrences=[\"sch\",\"spl\",\"shr\",\"squ\",\"thr\",\"spr\",\"scr\",\"sph\",\"th\",\"tw\",\"ch\",\"sh\",\"sw\",\"sk\",\"sm\",\"tt\",\"pp\",\"bb\",\"dd\",\"ff\",\"gg\",\"vv\",\"ww\",\"zz\"]\n",
    "    for oc in ocurrences:\n",
    "        if word.find(oc)!=-1:\n",
    "            return 1\n",
    "    return 0\n",
    "#Does it have a catalan\n",
    "def gotCedilla(word):\n",
    "    ocurrences=[\"ç\"]\n",
    "    for oc in ocurrences:\n",
    "        if word.find(oc)!=-1:\n",
    "            return 1\n",
    "    return 0\n",
    "\n",
    "#Features Adding\n",
    "wordsDF['ratio']=wordsDF['word'].apply(ratio)\n",
    "wordsDF['cantidadLetras']=wordsDF['word'].apply(len)\n",
    "wordsDF['gotAccent']=wordsDF['word'].apply(gotAccent)\n",
    "wordsDF['gotCedilla']=wordsDF['word'].apply(gotCedilla)\n",
    "wordsDF['doubleVocal']=wordsDF['word'].apply(doubleVocal)\n",
    "wordsDF['enCC']=wordsDF['word'].apply(enCC)\n",
    "#Reorganize DF\n",
    "wordsDF=wordsDF[['word','ratio','cantidadLetras','gotAccent','gotCedilla','doubleVocal','enCC','y']]\n",
    "#Write DF to csv\n",
    "wordsDF.to_csv('data/definitiveData.csv', index=False)\n",
    "#Checking\n",
    "print(wordsDF)"
   ]
  },
  {
   "attachments": {},
   "cell_type": "markdown",
   "metadata": {},
   "source": [
    "### Métricas\n",
    "Dado que el problema que tenemos delante es uno de clasificación, las métricas que nos serán más útiles son:\n",
    "- __Accuracy__ (Exactitud): Métrica que mide la proporción de predicciones correctas. Esto se hace haciendo la división entre las predicciones correctas entre el total de predicciones realizadas. Esta métrica suele ser útil en conjuntos de datos donde las clases están distribuidas de manera equilibrada, como en nuestro caso. \n",
    "- __Precision__ (Precisión): Métrica que mide la proporción de verdaderos positivos entre todos los positivos ( _TP_ y _FP_ ) detectados por el modelo. Normalmente se utiliza cuando se quiere evitar la detección de falsos positivos, como podría ser en testeos médicos. En esta práctica no se nos especifíca la importancia que habría en evitar falsos positivos, pero aún así usaremos esta métrica con fines de estudio.\n",
    "- __Recall__ (Sensibilidad): Métrica que mide la proporción de verdaderos positivos detectados entre los positivos que realmente existen ( _TP_ y _FN_ ). Esta métrica se utiliza cuando es importante evitar falsos negativos, pero al igual que la métrica anterior, lo usaremos por fines académicos. \n",
    "\n",
    "Por último indicar que también se usará una matriz de confusión para mostrar los resultados de una manera más gráfica. "
   ]
  },
  {
   "attachments": {},
   "cell_type": "markdown",
   "metadata": {},
   "source": [
    "### Separación del conjunto de datos en entrenamiento y test\n",
    "Vamos a escoger dos tercios para el conjunto de entrenamiento y el resto para el test.\n",
    " Puntualizar que se han normalizado los datos para un mejor rendimiento del modelo. Solo se han escalado los datos numéricos, ya que sería erróneo escalar todo el dataset, con los categóricos, ya que podría dar lugar a dar menos importancia a estos últimos. \n",
    "\n",
    " En esta sección se preparan los conjuntos de datos para realizar los experimentos 1, 2 y 3."
   ]
  },
  {
   "cell_type": "code",
   "execution_count": 27,
   "metadata": {},
   "outputs": [],
   "source": [
    "#First we must separate dataframe into X and y format\n",
    "X=wordsDF.iloc[:,1:7]\n",
    "y=wordsDF.iloc[:,7]\n",
    "\n",
    "#Auxiliar portion of observations set, with only numerical values\n",
    "X_aux=wordsDF.iloc[:,1:3]\n",
    "\n",
    "\n",
    "#For better perfomance, we scale the data using a standard scaler\n",
    "scaler = sklearn.preprocessing.StandardScaler()\n",
    "scaler.fit(X_aux)\n",
    "standardData_Aux = scaler.transform(X_aux)\n",
    "\n",
    "#Standarized DF\n",
    "standardData=X\n",
    "#Substitute standarized values in correspondent columns\n",
    "standardData['ratio']=standardData_Aux[:,0]\n",
    "standardData['cantidadLetras']=standardData_Aux[:,1]\n",
    "\n",
    "\n",
    "#Only Numerical values dataframe\n",
    "standardData_Only_Num = standardData.iloc[:,:2]\n",
    "X_cat = standardData.iloc[:,2:]\n",
    "#Then we separate the data frame in training and test (will be used in chosen model)\n",
    "#Experiment 1 train and test\n",
    "X_train, X_test, y_train, y_test = train_test_split(standardData, y, test_size=0.33, random_state=11)\n",
    "\n",
    "#Experiment 2 train and test\n",
    "X_num_train, X_num_test, y_num_train, y_num_test = train_test_split(standardData_Only_Num,y, test_size=0.33, random_state=22)\n",
    "#Experiment 3 train and test\n",
    "X_cat_train, X_cat_test, y_cat_train, y_cat_test = train_test_split(X_cat,y,test_size=0.33, random_state=33)"
   ]
  },
  {
   "attachments": {},
   "cell_type": "markdown",
   "metadata": {},
   "source": [
    "## Experimentos\n",
    "En este problema creemos que el mejor modelo para clasificar las palabras va a ser una SVM con un kernel gaussiano (__rbf__) ya que tenemos un número de características bastante bajo en comparación al número de muestras. Se han hecho pruebas con un kernel líneal, y si bien los resultados se acercan, el kernel gaussiano ha dado mejores resultados de media.\n",
    "\n",
    "Los híperparámetros que deberemos de configurar en el modelo del SVM son:\n",
    "- _C_: El parámetro __C__ en una SVM es un hiperparámetro que controla __la flexibilidad__ del modelo. Se utiliza para controlar el trade-off entre la complejidad del modelo y la cantidad de errores de clasificación que se permiten. Si C es un valor alto, el modelo se vuelve menos flexible y puede tender al overfitting. Si C es un valor bajo, el modelo es más flexible y permite más errores de clasificación. \n",
    "\n",
    "- _max\\_iter_: __Número máximo de iteraciones__ que se llevará acabo en el entrenamiento del modelo, para encontrar una solución óptima. Si el parámetro es muy pequeño puede que no encuentre una solución óptima y tenga un rendimiento bajo. Por lo contrario si ponemos un valor muy alto podría alargar el tiempo de entrenamiento innecesariamente, ya que una solución óptima se podría encontrar con menos iteraciones.\n",
    "\n",
    "- _gamma_: Controla el __ancho del kernel__. Cuanto mayor es su valor, menor es el ancho del kernel y viceversa. Si el kernel es muy ancho el modelo se vuelve más suave y no es tan sensible a los detalles de las muestras. \n",
    "\n",
    "El resto de híperparámetros no son tan necesarios ya que no se ajustan al problema. (Explicar algún que otro parámetro y decir por qué no es útil)."
   ]
  },
  {
   "cell_type": "code",
   "execution_count": 28,
   "metadata": {},
   "outputs": [],
   "source": [
    "#Model\n",
    "SVM_rbf = SVC(kernel='rbf')"
   ]
  },
  {
   "attachments": {},
   "cell_type": "markdown",
   "metadata": {},
   "source": [
    "\n",
    "## Primer experimento\n",
    "En el primer experimento, entrenaremos a un modelo basado en SVM con todo el conjunto de características explicado anteriormente. Los resultados que saquemos de este primer experimento, los usaremos como comparación para los siguientes y a raíz de estos sacaremos unas conclusiones."
   ]
  },
  {
   "attachments": {},
   "cell_type": "markdown",
   "metadata": {},
   "source": [
    "### Nested Cross-Validation\n",
    "Para elegir los mejores valores para los híperparámetros y a su vez elegir el modelo que mejor generaliza debemos de hacer uso de la técnica __Nested Cross-validation__. Esta técnica consiste en dos bucles, uno exterior y otro interior:\n",
    "- En el interior se aplica __GridSearch__, donde se extrae la configuración de híperparámetros que mejores resultados da.\n",
    "- En el exterior se hace un reentrenamiento con estos híperparámetros y se prueba el modelo con el conjunto de test correspondiente.\n",
    "\n",
    "Al final del proceso tendremos K modelos, con el score (_accuracy_ normalmente) correspondiente a cada uno.\n",
    "\n",
    "Referencias:<br>\n",
    "- <https://ploomber.io/blog/nested-cv/>\n",
    "- En este artículo se demuestra que hacer solo cross-validation puede resultar en un error de generalización optimista (debido a overfitting) \n",
    "<https://jmlr.csail.mit.edu/papers/volume11/cawley10a/cawley10a.pdf>\n"
   ]
  },
  {
   "attachments": {},
   "cell_type": "markdown",
   "metadata": {},
   "source": [
    "#### Nested Cross-validation automático"
   ]
  },
  {
   "cell_type": "code",
   "execution_count": 29,
   "metadata": {},
   "outputs": [
    {
     "name": "stdout",
     "output_type": "stream",
     "text": [
      "Mean score of Nested cross-validation:0.670+-0.013\n"
     ]
    }
   ],
   "source": [
    "#Hyper Grid\n",
    "hyper_grid = {\"C\":[0.1,1,10],\"max_iter\":[100,1000,10000],\"gamma\":[.01,.1,1]}\n",
    "#Inner and Outer crossvalidation, following steps from :\n",
    "#https://www.analyticsvidhya.com/blog/2021/03/a-step-by-step-guide-to-nested-cross-validation/\n",
    "# and\n",
    "# https://inria.github.io/scikit-learn-mooc/python_scripts/cross_validation_nested.html\n",
    "\n",
    "inner_cv=StratifiedKFold(n_splits=3, shuffle=True)\n",
    "outer_cv=StratifiedKFold(n_splits=5, shuffle=True)\n",
    "#GridSearch definition\n",
    "search=GridSearchCV(estimator=SVM_rbf,cv=inner_cv,param_grid=hyper_grid,scoring=\"accuracy\",n_jobs=-1)\n",
    "\n",
    "#Test score after nesting\n",
    "test_score=cross_val_score(search,X_train,y_train,cv=outer_cv,n_jobs=-1)\n",
    "#search.fit(X_train,y_train)\n",
    "#Printing results of Nested Cross-Validation\n",
    "print(f\"Mean score of Nested cross-validation:\"f\"{test_score.mean():.3f}+-{test_score.std():.3f}\")\n",
    "#print(f\"The best estimator is:\"f\"{search.best_estimator_}\")"
   ]
  },
  {
   "attachments": {},
   "cell_type": "markdown",
   "metadata": {},
   "source": [
    "#### Nested Cross-Validation manual"
   ]
  },
  {
   "cell_type": "code",
   "execution_count": 30,
   "metadata": {},
   "outputs": [],
   "source": [
    "#CrossValidation\n",
    "inner_cv_man=StratifiedKFold(n_splits=3, shuffle=True)\n",
    "outer_cv_man=StratifiedKFold(n_splits=5, shuffle=True)\n",
    "best_models = []\n",
    "best_scores = []\n",
    "#GridSearch definition\n",
    "search=GridSearchCV(estimator=SVM_rbf,cv=inner_cv,param_grid=hyper_grid,scoring=\"accuracy\",n_jobs=-1)\n",
    "aux_X=X_train.to_numpy()\n",
    "aux_y=y_train.to_numpy()\n",
    "for train, test in outer_cv_man.split(aux_X,aux_y):\n",
    "    \n",
    "    X_train_cv, y_train_cv = aux_X[train], aux_y[train]\n",
    "    X_test_cv, y_test_cv = aux_X[test], aux_y[test]\n",
    "    modelo = search.fit(X_train_cv, y_train_cv)\n",
    "    best_models.append(modelo.best_estimator_)\n",
    "    best_scores.append(modelo.best_score_)\n"
   ]
  },
  {
   "cell_type": "code",
   "execution_count": 31,
   "metadata": {},
   "outputs": [
    {
     "name": "stdout",
     "output_type": "stream",
     "text": [
      "SVC(C=0.1, gamma=1, max_iter=1000)\n"
     ]
    }
   ],
   "source": [
    "#Escogemos el mejor modelo obtenido del Nested Cross-validation\n",
    "modeloExperimento_1 = best_models[best_scores.index(max(best_scores))]\n",
    "print(modeloExperimento_1)"
   ]
  },
  {
   "attachments": {},
   "cell_type": "markdown",
   "metadata": {},
   "source": [
    "### Prueba del modelo con los parámetros encontrados\n",
    "\n",
    "Una vez hemos encontrado los mejores híperparámetros para el SVM con Kernel Gaussiano, procedemos a entrenarlo y a realizar la predicción."
   ]
  },
  {
   "cell_type": "code",
   "execution_count": 32,
   "metadata": {},
   "outputs": [
    {
     "name": "stdout",
     "output_type": "stream",
     "text": [
      "Accuracy: 0.660\n",
      "Precision: 0.633\n",
      "Recall: 0.735\n"
     ]
    },
    {
     "data": {
      "text/plain": "<Figure size 640x480 with 2 Axes>",
      "image/png": "[encoded data removed]"
     },
     "metadata": {},
     "output_type": "display_data"
    }
   ],
   "source": [
    "#Re-train Model with Train set\n",
    "modeloExperimento_1.fit(X_train,y_train)\n",
    "\n",
    "#Predict with X_test\n",
    "y_predicted=modeloExperimento_1.predict(X_test)\n",
    "\n",
    "##Accuracy\n",
    "print(f\"Accuracy: {accuracy_score(y_test,y_predicted):.3f}\")\n",
    "\n",
    "##Precision\n",
    "print(f\"Precision: {precision_score(y_test,y_predicted):.3f}\")\n",
    "#Recall \n",
    "print(f\"Recall: {recall_score(y_test,y_predicted):.3f}\")\n",
    "#Confussion Matrix\n",
    "cm=confusion_matrix(y_test,y_predicted, labels=modeloExperimento_1.classes_)\n",
    "disp= ConfusionMatrixDisplay(confusion_matrix=cm,display_labels=[\"angles\",\"catala\"])\n",
    "disp.plot()\n",
    "plt.show()"
   ]
  },
  {
   "attachments": {},
   "cell_type": "markdown",
   "metadata": {},
   "source": [
    "### Conclusiones primer experimento\n",
    "En este primer experimento, el modelo ha conseguido una __accuracy__ de un 0.669, casi el mismo valor que el inferido del __nested cross-validation__ (0.671). Es un valor de precisión decente, pero podría llegar a aumentarse, por ejemplo, añadiendo características que indiquen el origen de la raíz de una palabra (origen latín o gérmano).<br>\n",
    "En cuanto a las otras métricas:\n",
    "- _Precision_: El modelo ha predecido bien un 62.4% del total de muestras que han sido clasificadas como pertenecientes a la clase positiva (catalán en este caso ya que su valor categórico es el 1). \n",
    "- _Recall_: En cuanto a la sensibilidad, el modelo ha predecido bien el 69.9% de las muestras la clase positiva, del total real de muestras de la clase positiva.\n",
    "\n",
    "En cuanto a la matriz de confusión, puntualizar que la función _ConfusionMatrixDisplay_ muestra la matriz en un orden distinto al que estamos acostumbrados. Para más información: https://scikit-learn.org/stable/modules/generated/sklearn.metrics.confusion_matrix.html"
   ]
  },
  {
   "attachments": {},
   "cell_type": "markdown",
   "metadata": {},
   "source": [
    "## Segundo experimento\n",
    "En este experimento vamos a probar la capacidad de clasificación de un modelo basado en SVM, utilizando solamente las características numéricas. Esto lo haremos para comprobar el peso que tienen realmente estas características respecto a las categóricas que hemos diseñado."
   ]
  },
  {
   "attachments": {},
   "cell_type": "markdown",
   "metadata": {},
   "source": [
    "#### Nested Cross-Validation manual"
   ]
  },
  {
   "cell_type": "code",
   "execution_count": 33,
   "metadata": {},
   "outputs": [],
   "source": [
    "#CrossValidation\n",
    "inner_cv_man=StratifiedKFold(n_splits=3, shuffle=True)\n",
    "outer_cv_man=StratifiedKFold(n_splits=5, shuffle=True)\n",
    "best_models = []\n",
    "best_scores = []\n",
    "#GridSearch definition\n",
    "search=GridSearchCV(estimator=SVM_rbf,cv=inner_cv,param_grid=hyper_grid,scoring=\"accuracy\",n_jobs=-1)\n",
    "aux_X=X_num_train.to_numpy()\n",
    "aux_y=y_num_train.to_numpy()\n",
    "for train, test in outer_cv_man.split(aux_X,aux_y):\n",
    "    \n",
    "    X_train_cv, y_train_cv = aux_X[train], aux_y[train]\n",
    "    X_test_cv, y_test_cv = aux_X[test], aux_y[test]\n",
    "    modelo = search.fit(X_train_cv, y_train_cv)\n",
    "    best_models.append(modelo.best_estimator_)\n",
    "    best_scores.append(modelo.best_score_)\n"
   ]
  },
  {
   "cell_type": "code",
   "execution_count": 34,
   "metadata": {},
   "outputs": [
    {
     "name": "stdout",
     "output_type": "stream",
     "text": [
      "SVC(C=1, gamma=0.1, max_iter=1000)\n"
     ]
    }
   ],
   "source": [
    "#Escogemos el mejor modelo obtenido del Nested Cross-validation\n",
    "modeloExperimento_2 = best_models[best_scores.index(max(best_scores))]\n",
    "print(modeloExperimento_2)"
   ]
  },
  {
   "attachments": {},
   "cell_type": "markdown",
   "metadata": {},
   "source": [
    "### Prueba del modelo con los parámetros encontrados\n",
    "\n",
    "Una vez hemos encontrado los mejores híperparámetros para el SVM con Kernel Gaussiano, procedemos a entrenarlo y a realizar la predicción."
   ]
  },
  {
   "cell_type": "code",
   "execution_count": 35,
   "metadata": {},
   "outputs": [
    {
     "name": "stdout",
     "output_type": "stream",
     "text": [
      "Accuracy: 0.585\n",
      "Precision: 0.711\n",
      "Recall: 0.334\n"
     ]
    },
    {
     "data": {
      "text/plain": "<Figure size 640x480 with 2 Axes>",
      "image/png": "[encoded data removed]"
     },
     "metadata": {},
     "output_type": "display_data"
    }
   ],
   "source": [
    "#Re-train Model with Train set\n",
    "modeloExperimento_2.fit(X_num_train,y_num_train)\n",
    "\n",
    "#Predict with X_test\n",
    "y_predicted=modeloExperimento_2.predict(X_num_test)\n",
    "\n",
    "##Accuracy\n",
    "print(f\"Accuracy: {accuracy_score(y_num_test,y_predicted):.3f}\")\n",
    "\n",
    "##Precision\n",
    "print(f\"Precision: {precision_score(y_num_test,y_predicted):.3f}\")\n",
    "#Recall \n",
    "print(f\"Recall: {recall_score(y_num_test,y_predicted):.3f}\")\n",
    "#Confussion Matrix\n",
    "cm=confusion_matrix(y_num_test,y_predicted, labels=modeloExperimento_2.classes_)\n",
    "disp= ConfusionMatrixDisplay(confusion_matrix=cm,display_labels=[\"angles\",\"catala\"])\n",
    "disp.plot()\n",
    "plt.show()"
   ]
  },
  {
   "attachments": {},
   "cell_type": "markdown",
   "metadata": {},
   "source": [
    "### Conclusiones segundo experimento\n",
    "En este segundo experimento, el modelo ha conseguido una __accuracy__ de un 0.614, un valor significativamente menor que el arrojado en el primer experimento. Puede que se deba a que las variables categóricas sean las más importantes a la hora de hacer la clasificación. Esto será comprobado en el siguiente experimento. En cuanto a las otras métricas:\n",
    "- _Precision_: El modelo ha predecido bien un 60.0% del total de muestras que han sido clasificadas como pertenecientes a la clase positiva (catalán en este caso ya que su valor categórico es el 1). \n",
    "- _Recall_: En cuanto a la sensibilidad, el modelo ha predecido bien el 56.9% de las muestras la clase positiva, del total real de muestras de la clase positiva."
   ]
  },
  {
   "attachments": {},
   "cell_type": "markdown",
   "metadata": {},
   "source": [
    "## Tercer experimento\n",
    "En este experimento vamos a confirmar las sospechas que surgieron tras realizar el segundo experimento: que las variables más importantes en el conjunto diseñado son las categóricas. "
   ]
  },
  {
   "attachments": {},
   "cell_type": "markdown",
   "metadata": {},
   "source": [
    "#### Nested Cross-Validation manual"
   ]
  },
  {
   "cell_type": "code",
   "execution_count": 36,
   "metadata": {},
   "outputs": [],
   "source": [
    "#CrossValidation\n",
    "inner_cv_man=StratifiedKFold(n_splits=3, shuffle=True)\n",
    "outer_cv_man=StratifiedKFold(n_splits=5, shuffle=True)\n",
    "best_models = []\n",
    "best_scores = []\n",
    "#GridSearch definition\n",
    "search=GridSearchCV(estimator=SVM_rbf,cv=inner_cv,param_grid=hyper_grid,scoring=\"accuracy\",n_jobs=-1)\n",
    "aux_X=X_cat_train.to_numpy()\n",
    "aux_y=y_cat_train.to_numpy()\n",
    "for train, test in outer_cv_man.split(aux_X,aux_y):\n",
    "    \n",
    "    X_train_cv, y_train_cv = aux_X[train], aux_y[train]\n",
    "    X_test_cv, y_test_cv = aux_X[test], aux_y[test]\n",
    "    modelo = search.fit(X_train_cv, y_train_cv)\n",
    "    best_models.append(modelo.best_estimator_)\n",
    "    best_scores.append(modelo.best_score_)"
   ]
  },
  {
   "cell_type": "code",
   "execution_count": 37,
   "metadata": {},
   "outputs": [
    {
     "name": "stdout",
     "output_type": "stream",
     "text": [
      "SVC(C=0.1, gamma=1, max_iter=1000)\n"
     ]
    }
   ],
   "source": [
    "#Escogemos el mejor modelo obtenido del Nested Cross-validation\n",
    "modeloExperimento_3 = best_models[best_scores.index(max(best_scores))]\n",
    "print(modeloExperimento_3)"
   ]
  },
  {
   "attachments": {},
   "cell_type": "markdown",
   "metadata": {},
   "source": [
    "### Prueba del modelo con los parámetros encontrados\n",
    "\n",
    "Una vez hemos encontrado los mejores híperparámetros para el SVM con Kernel Gaussiano, procedemos a entrenarlo y a realizar la predicción."
   ]
  },
  {
   "cell_type": "code",
   "execution_count": 38,
   "metadata": {},
   "outputs": [
    {
     "name": "stdout",
     "output_type": "stream",
     "text": [
      "Accuracy: 0.570\n",
      "Precision: 0.531\n",
      "Recall: 0.984\n"
     ]
    },
    {
     "data": {
      "text/plain": "<Figure size 640x480 with 2 Axes>",
      "image/png": "[encoded data removed]"
     },
     "metadata": {},
     "output_type": "display_data"
    }
   ],
   "source": [
    "#Re-train Model with Train set\n",
    "modeloExperimento_3.fit(X_cat_train,y_cat_train)\n",
    "\n",
    "#Predict with X_test\n",
    "y_predicted=modeloExperimento_3.predict(X_cat_test)\n",
    "\n",
    "##Accuracy\n",
    "print(f\"Accuracy: {accuracy_score(y_cat_test,y_predicted):.3f}\")\n",
    "\n",
    "##Precision\n",
    "print(f\"Precision: {precision_score(y_cat_test,y_predicted):.3f}\")\n",
    "#Recall \n",
    "print(f\"Recall: {recall_score(y_cat_test,y_predicted):.3f}\")\n",
    "#Confussion Matrix\n",
    "cm=confusion_matrix(y_cat_test,y_predicted, labels=modeloExperimento_2.classes_)\n",
    "disp= ConfusionMatrixDisplay(confusion_matrix=cm,display_labels=[\"angles\",\"catala\"])\n",
    "disp.plot()\n",
    "plt.show()"
   ]
  },
  {
   "attachments": {},
   "cell_type": "markdown",
   "metadata": {},
   "source": [
    "### Conclusiones tercer experimento\n",
    "En este tercer experimento, el modelo ha conseguido una __accuracy__ de un 0.59, un valor aún menor que el arrojado por el segundo experimento. Lo más interesante lo vemos en las otras métricas:\n",
    "- _Precision_: El modelo ha predecido bien un 54.4% del total de muestras que han sido clasificadas como pertenecientes a la clase positiva (catalán en este caso ya que su valor categórico es el 1). Esto es un valor realmente bajo, casi equivalente a tirar una moneda al aire. \n",
    "- _Recall_: En cuanto a la sensibilidad, el modelo ha predecido \"bien\" el 99.4% de las muestras la clase positiva, del total real de muestras de la clase positiva. Es decir, que de todas las palabras que eran catalanas, solamente ha dicho que eran inglesas 2. Esto en primera instáncia podría parecer que es un buen valor, pero no lo es.\n",
    "\n",
    "Con estas métricas podemos inferir que con las características categóricas actuales, el modelo tiene una tendencia a clasificar las palabras como catalanas. La solución podría partir en la mejora de la forma de implementar las características categóricas como _enCC_, donde solamente se verifica si se encuentra el grupo de consonantes en la palabra y no la posición donde es encontrado este grupo. Para ello habría que llevar a cabo una separación por sílabas de la palabra.\n",
    "\n",
    "También vemos que las características numéricas son más útiles de lo que pensabamos ya que mejoran la clasificación, pero no lo suficiente. Esto es debido a que las categóricas tienen más peso al fin y al cabo, ya que el número de letras y el ratio de consonantes por vocal no son distintivos tan críticos, como pueden ser patrones morfológicos/ortográficos como los explicados en el apartado de características."
   ]
  },
  {
   "cell_type": "markdown",
   "source": [
    "## Cuarto experimento\n",
    "En este experimento vamos a probar de modificar las características que se usaron originalmente para entrenar los modelos. Habiamos hablado de que algunas variables categóricas podian ser modificadas para adquirir una mayor precisión, en concreto _enCC_ que solo indica si se encuentra la combinación de consonantes pero no donde. Así que en lugar de tratarla como una variable categórica binaria la podemos tratar como una ternaria, donde el 0 indica la ausencia de la combinación, 1 que se ha encontrado al principio o al final de la palabra y 2 que se ha encontrado en medio. Lo mismo podemos hacer para _doubleVocal_ pues su naturaleza es la misma que la anterior variable.\n",
    "\n",
    "Así pues necesitamos modificar algunas funciones y actualizar el dataset."
   ],
   "metadata": {
    "collapsed": false
   }
  },
  {
   "cell_type": "code",
   "execution_count": 42,
   "outputs": [
    {
     "name": "stdout",
     "output_type": "stream",
     "text": [
      "          word   ratio  cantidadLetras  gotAccent  gotCedilla  doubleVocalT  \\\n",
      "0        milla  0.4000               5          0           0             0   \n",
      "1         step  0.2500               4          0           0             0   \n",
      "2     començar  0.3750               8          0           1             0   \n",
      "3     problema  0.3750               8          0           0             0   \n",
      "4       engine  0.5000               6          0           0             0   \n",
      "...        ...     ...             ...        ...         ...           ...   \n",
      "1971      blau  0.5000               4          0           0             0   \n",
      "1972     fight  0.2000               5          0           0             0   \n",
      "1973    govern  0.3333               6          0           0             0   \n",
      "1974       dia  0.6667               3          0           0             0   \n",
      "1975     since  0.4000               5          0           0             0   \n",
      "\n",
      "      enCCT  y  \n",
      "0         0  1  \n",
      "1         0  0  \n",
      "2         0  1  \n",
      "3         0  1  \n",
      "4         0  0  \n",
      "...     ... ..  \n",
      "1971      0  1  \n",
      "1972      0  0  \n",
      "1973      0  0  \n",
      "1974      0  1  \n",
      "1975      0  0  \n",
      "\n",
      "[1976 rows x 8 columns]\n"
     ]
    }
   ],
   "source": [
    "#DoubleVocal?\n",
    "def doubleVocalT(word):\n",
    "    ocurrences=[\"aa\",\"ee\",\"ii\",\"oo\",\"uu\"]\n",
    "    for oc in ocurrences:\n",
    "        index = word.find(oc)\n",
    "        if index == 0 or index == len(word) - 1:\n",
    "            return 1\n",
    "        if index > 0:\n",
    "            return 2\n",
    "    return 0\n",
    "#Does it have an english consonant cluster?\n",
    "def enCCT(word):\n",
    "    ocurrences=[\"sch\",\"spl\",\"shr\",\"squ\",\"thr\",\"spr\",\"scr\",\"sph\",\"th\",\"tw\",\"ch\",\"sh\",\"sw\",\"sk\",\"sm\",\"tt\",\"pp\",\"bb\",\"dd\",\"ff\",\"gg\",\"vv\",\"ww\",\"zz\"]\n",
    "    for oc in ocurrences:\n",
    "        index = word.find(oc)\n",
    "        if index == 0 or index == len(word) - 1:\n",
    "            return 1\n",
    "        if index > 0:\n",
    "            return 2\n",
    "    return 0\n",
    "#Features Adding\n",
    "wordsDF2 = pd.DataFrame()\n",
    "wordsDF2['word']=wordsDF['word']\n",
    "wordsDF2['y']=wordsDF['y']\n",
    "wordsDF2['ratio']=wordsDF['ratio']\n",
    "wordsDF2['cantidadLetras']=wordsDF['cantidadLetras']\n",
    "wordsDF2['gotAccent']=wordsDF['gotAccent']\n",
    "wordsDF2['gotCedilla']=wordsDF['gotCedilla']\n",
    "wordsDF2['doubleVocalT']=wordsDF['word'].apply(doubleVocalT)\n",
    "wordsDF2['enCCT']=wordsDF['word'].apply(enCCT)\n",
    "#Reorganize DF\n",
    "wordsDF2=wordsDF2[['word','ratio','cantidadLetras','gotAccent','gotCedilla','doubleVocalT','enCCT','y']]\n",
    "#Write DF to csv\n",
    "wordsDF2.to_csv('data/definitiveData2.csv', index=False)\n",
    "#Checking\n",
    "print(wordsDF2)\n",
    "\n",
    "X = wordsDF2.iloc[:,1:7]\n",
    "y = wordsDF2.iloc[:,7]\n",
    "X_train, X_test, y_train, y_test = train_test_split(X, y, test_size=0.33, random_state=11)"
   ],
   "metadata": {
    "collapsed": false
   }
  },
  {
   "cell_type": "markdown",
   "source": [
    "### Nested Cross-Validation Manual"
   ],
   "metadata": {
    "collapsed": false
   }
  },
  {
   "cell_type": "code",
   "execution_count": 43,
   "outputs": [
    {
     "name": "stderr",
     "output_type": "stream",
     "text": [
      "C:\\Users\\Daxmaster\\.conda\\envs\\prueba\\lib\\site-packages\\sklearn\\svm\\_base.py:301: ConvergenceWarning: Solver terminated early (max_iter=1000).  Consider pre-processing your data with StandardScaler or MinMaxScaler.\n",
      "  warnings.warn(\n"
     ]
    }
   ],
   "source": [
    "#CrossValidation\n",
    "inner_cv_man = StratifiedKFold(n_splits=3, shuffle=True)\n",
    "outer_cv_man = StratifiedKFold(n_splits=5, shuffle=True)\n",
    "best_models = []\n",
    "best_scores = []\n",
    "#GridSearch definition\n",
    "search = GridSearchCV(estimator=SVM_rbf, cv=inner_cv, param_grid=hyper_grid, scoring=\"accuracy\", n_jobs=-1)\n",
    "aux_X = X_train.to_numpy()\n",
    "aux_y = y_train.to_numpy()\n",
    "for train, test in outer_cv_man.split(aux_X, aux_y):\n",
    "    X_train_cv, y_train_cv = aux_X[train], aux_y[train]\n",
    "    X_test_cv, y_test_cv = aux_X[test], aux_y[test]\n",
    "    modelo = search.fit(X_train_cv, y_train_cv)\n",
    "    best_models.append(modelo.best_estimator_)\n",
    "    best_scores.append(modelo.best_score_)"
   ],
   "metadata": {
    "collapsed": false
   }
  },
  {
   "cell_type": "code",
   "execution_count": 44,
   "outputs": [
    {
     "name": "stdout",
     "output_type": "stream",
     "text": [
      "SVC(C=10, gamma=1, max_iter=1000)\n"
     ]
    }
   ],
   "source": [
    "#Escogemos el mejor modelo obtenido del Nested Cross-validation\n",
    "modeloExperimento_4 = best_models[best_scores.index(max(best_scores))]\n",
    "print(modeloExperimento_4)"
   ],
   "metadata": {
    "collapsed": false
   }
  },
  {
   "cell_type": "markdown",
   "source": [
    "### Prueba del modelo con los parámetros encontrados\n",
    "\n",
    "Una vez hemos encontrado los mejores híperparámetros para el SVM con Kernel Gaussiano, procedemos a entrenarlo y a realizar la predicción."
   ],
   "metadata": {
    "collapsed": false
   }
  },
  {
   "cell_type": "code",
   "execution_count": 45,
   "outputs": [
    {
     "name": "stdout",
     "output_type": "stream",
     "text": [
      "Accuracy: 0.660\n",
      "Precision: 0.634\n",
      "Recall: 0.729\n"
     ]
    },
    {
     "data": {
      "text/plain": "<Figure size 640x480 with 2 Axes>",
      "image/png": "[encoded data removed]"
     },
     "metadata": {},
     "output_type": "display_data"
    }
   ],
   "source": [
    "#Re-train Model with Train set\n",
    "modeloExperimento_4.fit(X_train,y_train)\n",
    "\n",
    "#Predict with X_test\n",
    "y_predicted=modeloExperimento_4.predict(X_test)\n",
    "\n",
    "##Accuracy\n",
    "print(f\"Accuracy: {accuracy_score(y_test,y_predicted):.3f}\")\n",
    "\n",
    "##Precision\n",
    "print(f\"Precision: {precision_score(y_test,y_predicted):.3f}\")\n",
    "#Recall\n",
    "print(f\"Recall: {recall_score(y_test,y_predicted):.3f}\")\n",
    "#Confussion Matrix\n",
    "cm=confusion_matrix(y_test,y_predicted, labels=modeloExperimento_4.classes_)\n",
    "disp= ConfusionMatrixDisplay(confusion_matrix=cm,display_labels=[\"angles\",\"catala\"])\n",
    "disp.plot()\n",
    "plt.show()"
   ],
   "metadata": {
    "collapsed": false
   }
  },
  {
   "cell_type": "markdown",
   "source": [
    "### Conclusiones cuarto experimento\n",
    "En este cuarto experimento, el modelo ha conseguido una __accuracy__ de 0.66, un valor practicamente idéntico al del primer experimento. Observemos las otras métricas:\n",
    "- _Precision_: El modelo ha predecido bien un 63% del total de muestras que han sido clasificadas como pertenecientes a la clase positiva (catalán en este caso ya que su valor categórico es el 1).\n",
    "- _Recall_: En cuanto a la sensibilidad, el modelo ha predecido \"bien\" el 72.9% de las muestras la clase positiva, del total real de muestras de la clase positiva.\n",
    "\n",
    "Usando variables categóricas ternarias vemos que no trae mejores resultados inmediatamente. Parece que distinguir la posicion en la que se encuentran esas combinaciones de letras no es tan relevante para distinguir entre palabras catalanas e inglesas. Sin embargo, tampoco parece entorpecer al modelo y puede resultar mas útil cuando se trate de distinguir palabras de otros idiomas."
   ],
   "metadata": {
    "collapsed": false
   }
  }
 ],
 "metadata": {
  "kernelspec": {
   "display_name": "Python 3.9.15 ('aprenentatge_automatic_2223')",
   "language": "python",
   "name": "python3"
  },
  "language_info": {
   "codemirror_mode": {
    "name": "ipython",
    "version": 3
   },
   "file_extension": ".py",
   "mimetype": "text/x-python",
   "name": "python",
   "nbconvert_exporter": "python",
   "pygments_lexer": "ipython3",
   "version": "3.9.15"
  },
  "vscode": {
   "interpreter": {
    "hash": "5b3ed45ef713d66eb30c4c224ecca975f6d1f36637243a303e315f56b339dc2f"
   }
  }
 },
 "nbformat": 4,
 "nbformat_minor": 0
}
